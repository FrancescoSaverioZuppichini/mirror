{
 "cells": [
  {
   "cell_type": "code",
   "execution_count": 1,
   "metadata": {},
   "outputs": [],
   "source": [
    "%load_ext autoreload\n",
    "%autoreload 2"
   ]
  },
  {
   "cell_type": "markdown",
   "metadata": {},
   "source": [
    "# Mirror\n",
    "## Pytorch CNN Visualisation Tool\n",
    "\n",
    "This is a raw beta so expect lots of things to change and improve over time.\n",
    "\n",
    "![alt](https://github.com/FrancescoSaverioZuppichini/mirror/blob/master/resources/mirror.gif?raw=true)\n",
    "\n",
    "### Getting started\n",
    "\n",
    "To install mirror run\n",
    "\n",
    "```\n",
    "pip install git+https://github.com/FrancescoSaverioZuppichini/mirror.git\n",
    "```"
   ]
  },
  {
   "cell_type": "markdown",
   "metadata": {},
   "source": [
    "## Getting Started\n",
    "\n",
    "A basic example"
   ]
  },
  {
   "cell_type": "code",
   "execution_count": 2,
   "metadata": {},
   "outputs": [
    {
     "name": "stdout",
     "output_type": "stream",
     "text": [
      " * Serving Flask app \"mirror.App\" (lazy loading)\n",
      " * Environment: production\n",
      "   WARNING: This is a development server. Do not use it in a production deployment.\n",
      "   Use a production WSGI server instead.\n",
      " * Debug mode: off\n"
     ]
    },
    {
     "name": "stderr",
     "output_type": "stream",
     "text": [
      " * Running on http://0.0.0.0:5000/ (Press CTRL+C to quit)\n",
      "127.0.0.1 - - [19/Jul/2019 11:41:05] \"GET / HTTP/1.1\" 304 -\n",
      "127.0.0.1 - - [19/Jul/2019 11:41:05] \"GET /static/css/main.fd8c6979.chunk.css HTTP/1.1\" 200 -\n",
      "127.0.0.1 - - [19/Jul/2019 11:41:05] \"GET /static/js/1.2f835df5.chunk.js HTTP/1.1\" 304 -\n",
      "127.0.0.1 - - [19/Jul/2019 11:41:05] \"GET /static/js/main.e85ab74f.chunk.js HTTP/1.1\" 304 -\n",
      "127.0.0.1 - - [19/Jul/2019 11:41:05] \"GET /api/inputs HTTP/1.1\" 200 -\n",
      "127.0.0.1 - - [19/Jul/2019 11:41:05] \"GET /api/model HTTP/1.1\" 200 -\n",
      "127.0.0.1 - - [19/Jul/2019 11:41:05] \"GET /api/visualisation HTTP/1.1\" 200 -\n",
      "127.0.0.1 - - [19/Jul/2019 11:41:05] \"GET /api/model/image/5894253280271/5894253280271/495753851609124913/%3Cbuilt-in%20function%20id%3E/0 HTTP/1.1\" 200 -\n",
      "127.0.0.1 - - [19/Jul/2019 11:41:05] \"GET /api/model/image/5894253280271/5894253280271/495767595504472113/%3Cbuilt-in%20function%20id%3E/1 HTTP/1.1\" 200 -\n",
      "127.0.0.1 - - [19/Jul/2019 11:41:08] \"GET /api/model/layer/output/8770567657785?last=0 HTTP/1.1\" 500 -\n",
      "127.0.0.1 - - [19/Jul/2019 11:41:09] \"GET /api/model/layer/output/9223380807551582678?last=0 HTTP/1.1\" 500 -\n",
      "127.0.0.1 - - [19/Jul/2019 11:41:09] \"PUT /api/visualisation HTTP/1.1\" 200 -\n",
      "127.0.0.1 - - [19/Jul/2019 11:41:09] \"GET /api/model/layer/output/undefined?last=0 HTTP/1.1\" 500 -\n",
      "127.0.0.1 - - [19/Jul/2019 11:41:10] \"GET /api/model/layer/output/9223380807439691566?last=0 HTTP/1.1\" 200 -\n",
      "127.0.0.1 - - [19/Jul/2019 11:41:10] \"GET /api/model/image/140329072989600/8770567064384/1320835623429443638/9223380807439691566/0 HTTP/1.1\" 200 -\n",
      "127.0.0.1 - - [19/Jul/2019 11:41:11] \"PUT /api/visualisation HTTP/1.1\" 200 -\n",
      "127.0.0.1 - - [19/Jul/2019 11:41:11] \"GET /api/model/layer/output/9223380807439691566?last=0 HTTP/1.1\" 200 -\n",
      "127.0.0.1 - - [19/Jul/2019 11:41:11] \"GET /api/model/image/140329072989600/8770567064370/1411907072046501943/9223380807439691566/1 HTTP/1.1\" 200 -\n",
      "127.0.0.1 - - [19/Jul/2019 11:41:11] \"GET /api/model/image/140329072989600/8770567064370/1411916967651151927/9223380807439691566/3 HTTP/1.1\" 200 -\n",
      "127.0.0.1 - - [19/Jul/2019 11:41:11] \"GET /api/model/image/140329072989600/8770567064370/1411912019848826935/9223380807439691566/2 HTTP/1.1\" 200 -\n",
      "127.0.0.1 - - [19/Jul/2019 11:41:11] \"GET /api/model/image/140329072989600/8770567064370/1411920815941849143/9223380807439691566/4 HTTP/1.1\" 200 -\n",
      "127.0.0.1 - - [19/Jul/2019 11:41:11] \"GET /api/model/image/140329072989600/8770567064370/1411925213988360247/9223380807439691566/5 HTTP/1.1\" 200 -\n",
      "127.0.0.1 - - [19/Jul/2019 11:41:11] \"GET /api/model/image/140329072989600/8770567064370/1411928512523243575/9223380807439691566/6 HTTP/1.1\" 200 -\n",
      "127.0.0.1 - - [19/Jul/2019 11:41:11] \"GET /api/model/image/140329072989600/8770567064370/1411936758860451895/9223380807439691566/8 HTTP/1.1\" 200 -\n",
      "127.0.0.1 - - [19/Jul/2019 11:41:11] \"GET /api/model/image/140329072989600/8770567064370/1411932910569754679/9223380807439691566/7 HTTP/1.1\" 200 -\n",
      "127.0.0.1 - - [19/Jul/2019 11:41:11] \"GET /api/model/image/140329072989600/8770567064370/1411941156906962999/9223380807439691566/9 HTTP/1.1\" 200 -\n",
      "127.0.0.1 - - [19/Jul/2019 11:41:11] \"GET /api/model/image/140329072989600/8770567064370/1411947204220915767/9223380807439691566/11 HTTP/1.1\" 200 -\n",
      "127.0.0.1 - - [19/Jul/2019 11:41:11] \"GET /api/model/image/140329072989600/8770567064370/1411943905686032439/9223380807439691566/10 HTTP/1.1\" 200 -\n",
      "127.0.0.1 - - [19/Jul/2019 11:41:11] \"GET /api/model/image/140329072989600/8770567064370/1411951052511612983/9223380807439691566/12 HTTP/1.1\" 200 -\n",
      "127.0.0.1 - - [19/Jul/2019 11:41:11] \"GET /api/model/image/140329072989600/8770567064370/1411954351046496311/9223380807439691566/13 HTTP/1.1\" 200 -\n",
      "127.0.0.1 - - [19/Jul/2019 11:41:11] \"GET /api/model/image/140329072989600/8770567064370/1411958199337193527/9223380807439691566/14 HTTP/1.1\" 200 -\n",
      "127.0.0.1 - - [19/Jul/2019 11:41:11] \"GET /api/model/image/140329072989600/8770567064370/1411961497872076855/9223380807439691566/15 HTTP/1.1\" 200 -\n",
      "127.0.0.1 - - [19/Jul/2019 11:41:11] \"GET /api/model/image/140329072989600/8770567064370/1411965895918587959/9223380807439691566/16 HTTP/1.1\" 200 -\n",
      "127.0.0.1 - - [19/Jul/2019 11:41:11] \"GET /api/model/image/140329072989600/8770567064370/1411969194453471287/9223380807439691566/17 HTTP/1.1\" 200 -\n",
      "127.0.0.1 - - [19/Jul/2019 11:41:11] \"GET /api/model/image/140329072989600/8770567064370/1411973042744168503/9223380807439691566/18 HTTP/1.1\" 200 -\n",
      "127.0.0.1 - - [19/Jul/2019 11:41:11] \"GET /api/model/image/140329072989600/8770567064370/1411976341279051831/9223380807439691566/19 HTTP/1.1\" 200 -\n",
      "127.0.0.1 - - [19/Jul/2019 11:41:11] \"GET /api/model/image/140329072989600/8770567064370/1411979639813935159/9223380807439691566/20 HTTP/1.1\" 200 -\n",
      "127.0.0.1 - - [19/Jul/2019 11:41:11] \"GET /api/model/image/140329072989600/8770567064370/1411983488104632375/9223380807439691566/21 HTTP/1.1\" 200 -\n",
      "127.0.0.1 - - [19/Jul/2019 11:41:11] \"GET /api/model/image/140329072989600/8770567064370/1411990085174399031/9223380807439691566/23 HTTP/1.1\" 200 -\n",
      "127.0.0.1 - - [19/Jul/2019 11:41:11] \"GET /api/model/image/140329072989600/8770567064370/1411986236883701815/9223380807439691566/22 HTTP/1.1\" 200 -\n",
      "127.0.0.1 - - [19/Jul/2019 11:41:11] \"GET /api/model/image/140329072989600/8770567064370/1411992833953468471/9223380807439691566/24 HTTP/1.1\" 200 -\n",
      "127.0.0.1 - - [19/Jul/2019 11:41:11] \"GET /api/model/image/140329072989600/8770567064370/1411996682244165687/9223380807439691566/25 HTTP/1.1\" 200 -\n",
      "127.0.0.1 - - [19/Jul/2019 11:41:11] \"GET /api/model/image/140329072989600/8770567064370/1412000530534862903/9223380807439691566/26 HTTP/1.1\" 200 -\n",
      "127.0.0.1 - - [19/Jul/2019 11:41:11] \"GET /api/model/image/140329072989600/8770567064370/1412004378825560119/9223380807439691566/27 HTTP/1.1\" 200 -\n",
      "127.0.0.1 - - [19/Jul/2019 11:41:11] \"GET /api/model/image/140329072989600/8770567064370/1412007677360443447/9223380807439691566/28 HTTP/1.1\" 200 -\n",
      "127.0.0.1 - - [19/Jul/2019 11:41:11] \"GET /api/model/image/140329072989600/8770567064370/1412010426139512887/9223380807439691566/29 HTTP/1.1\" 200 -\n",
      "127.0.0.1 - - [19/Jul/2019 11:41:12] \"GET /api/model/image/140329072989600/8770567064370/1412014274430210103/9223380807439691566/30 HTTP/1.1\" 200 -\n",
      "127.0.0.1 - - [19/Jul/2019 11:41:12] \"GET /api/model/image/140329072989600/8770567064370/1412017572965093431/9223380807439691566/31 HTTP/1.1\" 200 -\n",
      "127.0.0.1 - - [19/Jul/2019 11:41:12] \"GET /api/model/image/140329072989600/8770567064370/1412021421255790647/9223380807439691566/32 HTTP/1.1\" 200 -\n",
      "127.0.0.1 - - [19/Jul/2019 11:41:12] \"GET /api/model/image/140329072989600/8770567064370/1412024170034860087/9223380807439691566/33 HTTP/1.1\" 200 -\n",
      "127.0.0.1 - - [19/Jul/2019 11:41:12] \"GET /api/model/image/140329072989600/8770567064370/1412030767104626743/9223380807439691566/35 HTTP/1.1\" 200 -\n",
      "127.0.0.1 - - [19/Jul/2019 11:41:12] \"GET /api/model/image/140329072989600/8770567064370/1412027468569743415/9223380807439691566/34 HTTP/1.1\" 200 -\n",
      "127.0.0.1 - - [19/Jul/2019 11:41:12] \"GET /api/model/image/140329072989600/8770567064370/1412034615395323959/9223380807439691566/36 HTTP/1.1\" 200 -\n",
      "127.0.0.1 - - [19/Jul/2019 11:41:12] \"GET /api/model/image/140329072989600/8770567064370/1412039013441835063/9223380807439691566/37 HTTP/1.1\" 200 -\n",
      "127.0.0.1 - - [19/Jul/2019 11:41:12] \"GET /api/model/image/140329072989600/8770567064370/1412042311976718391/9223380807439691566/38 HTTP/1.1\" 200 -\n",
      "127.0.0.1 - - [19/Jul/2019 11:41:12] \"GET /api/model/image/140329072989600/8770567064370/1412046160267415607/9223380807439691566/39 HTTP/1.1\" 200 -\n",
      "127.0.0.1 - - [19/Jul/2019 11:41:12] \"GET /api/model/image/140329072989600/8770567064370/1412048909046485047/9223380807439691566/40 HTTP/1.1\" 200 -\n",
      "127.0.0.1 - - [19/Jul/2019 11:41:12] \"GET /api/model/image/140329072989600/8770567064370/1412052757337182263/9223380807439691566/41 HTTP/1.1\" 200 -\n",
      "127.0.0.1 - - [19/Jul/2019 11:41:12] \"GET /api/model/image/140329072989600/8770567064370/1412055506116251703/9223380807439691566/42 HTTP/1.1\" 200 -\n",
      "127.0.0.1 - - [19/Jul/2019 11:41:12] \"GET /api/model/image/140329072989600/8770567064370/1412058804651135031/9223380807439691566/43 HTTP/1.1\" 200 -\n",
      "127.0.0.1 - - [19/Jul/2019 11:41:12] \"GET /api/model/image/140329072989600/8770567064370/1412076946592993335/9223380807439691566/44 HTTP/1.1\" 200 -\n"
     ]
    },
    {
     "name": "stderr",
     "output_type": "stream",
     "text": [
      "127.0.0.1 - - [19/Jul/2019 11:41:12] \"GET /api/model/image/140329072989600/8770567064370/1412079695372062775/9223380807439691566/45 HTTP/1.1\" 200 -\n",
      "127.0.0.1 - - [19/Jul/2019 11:41:12] \"GET /api/model/image/140329072989600/8770567064370/1412083543662759991/9223380807439691566/46 HTTP/1.1\" 200 -\n",
      "127.0.0.1 - - [19/Jul/2019 11:41:12] \"GET /api/model/image/140329072989600/8770567064370/1412087941709271095/9223380807439691566/47 HTTP/1.1\" 200 -\n",
      "127.0.0.1 - - [19/Jul/2019 11:41:12] \"GET /api/model/image/140329072989600/8770567064370/1412091240244154423/9223380807439691566/48 HTTP/1.1\" 200 -\n",
      "127.0.0.1 - - [19/Jul/2019 11:41:12] \"GET /api/model/image/140329072989600/8770567064370/1412095088534851639/9223380807439691566/49 HTTP/1.1\" 200 -\n",
      "127.0.0.1 - - [19/Jul/2019 11:41:12] \"GET /api/model/image/140329072989600/8770567064370/1412097837313921079/9223380807439691566/50 HTTP/1.1\" 200 -\n",
      "127.0.0.1 - - [19/Jul/2019 11:41:12] \"GET /api/model/image/140329072989600/8770567064370/1412101685604618295/9223380807439691566/51 HTTP/1.1\" 200 -\n",
      "127.0.0.1 - - [19/Jul/2019 11:41:12] \"GET /api/model/image/140329072989600/8770567064370/1412104984139501623/9223380807439691566/52 HTTP/1.1\" 200 -\n",
      "127.0.0.1 - - [19/Jul/2019 11:41:12] \"GET /api/model/image/140329072989600/8770567064370/1412108832430198839/9223380807439691566/53 HTTP/1.1\" 200 -\n",
      "127.0.0.1 - - [19/Jul/2019 11:41:12] \"GET /api/model/image/140329072989600/8770567064370/1412112680720896055/9223380807439691566/54 HTTP/1.1\" 200 -\n",
      "127.0.0.1 - - [19/Jul/2019 11:41:12] \"GET /api/model/image/140329072989600/8770567064370/1412117078767407159/9223380807439691566/55 HTTP/1.1\" 200 -\n",
      "127.0.0.1 - - [19/Jul/2019 11:41:12] \"GET /api/model/image/140329072989600/8770567064370/1412120927058104375/9223380807439691566/56 HTTP/1.1\" 200 -\n",
      "127.0.0.1 - - [19/Jul/2019 11:41:12] \"GET /api/model/image/140329072989600/8770567064370/1412125325104615479/9223380807439691566/57 HTTP/1.1\" 200 -\n",
      "127.0.0.1 - - [19/Jul/2019 11:41:12] \"GET /api/model/image/140329072989600/8770567064370/1412129173395312695/9223380807439691566/58 HTTP/1.1\" 200 -\n",
      "127.0.0.1 - - [19/Jul/2019 11:41:12] \"GET /api/model/image/140329072989600/8770567064370/1412139618755776567/9223380807439691566/60 HTTP/1.1\" 200 -\n",
      "127.0.0.1 - - [19/Jul/2019 11:41:12] \"GET /api/model/image/140329072989600/8770567064370/1412135220709265463/9223380807439691566/59 HTTP/1.1\" 200 -\n",
      "127.0.0.1 - - [19/Jul/2019 11:41:12] \"GET /api/model/image/140329072989600/8770567064370/1412144016802287671/9223380807439691566/61 HTTP/1.1\" 200 -\n",
      "127.0.0.1 - - [19/Jul/2019 11:41:12] \"GET /api/model/image/140329072989600/8770567064370/1412148414848798775/9223380807439691566/62 HTTP/1.1\" 200 -\n",
      "127.0.0.1 - - [19/Jul/2019 11:41:12] \"GET /api/model/image/140329072989600/8770567064370/1412152263139495991/9223380807439691566/63 HTTP/1.1\" 200 -\n",
      "127.0.0.1 - - [19/Jul/2019 11:41:12] \"GET /api/model/image/140329072989600/8770567064370/1411893877906968631/9223380807439691566/0 HTTP/1.1\" 200 -\n",
      "127.0.0.1 - - [19/Jul/2019 11:41:13] \"PUT /api/visualisation HTTP/1.1\" 200 -\n",
      "127.0.0.1 - - [19/Jul/2019 11:41:13] \"GET /api/model/layer/output/9223380807439691566?last=0 HTTP/1.1\" 200 -\n",
      "127.0.0.1 - - [19/Jul/2019 11:41:13] \"GET /api/model/image/140329072989600/8770567064377/1705208945581330489/9223380807439691566/0 HTTP/1.1\" 200 -\n",
      "127.0.0.1 - - [19/Jul/2019 11:41:14] \"PUT /api/visualisation HTTP/1.1\" 200 -\n",
      "127.0.0.1 - - [19/Jul/2019 11:41:14] \"GET /api/model/layer/output/9223380807439691566?last=0 HTTP/1.1\" 200 -\n",
      "127.0.0.1 - - [19/Jul/2019 11:41:14] \"GET /api/model/image/140329072989600/8770567064377/1817678539742351418/9223380807439691566/0 HTTP/1.1\" 200 -\n"
     ]
    }
   ],
   "source": [
    "from mirror import mirror\n",
    "from mirror.visualisations.web import *\n",
    "from PIL import Image\n",
    "from torchvision.models import resnet101, resnet18, vgg16, alexnet\n",
    "from torchvision.transforms import ToTensor, Resize, Compose\n",
    "\n",
    "# create a model\n",
    "model = vgg16(pretrained=True)\n",
    "# open some images\n",
    "cat = Image.open(\"./cat.jpg\")\n",
    "dog_and_cat = Image.open(\"./dog_and_cat.jpg\")\n",
    "# resize the image and make it a tensor\n",
    "to_input = Compose([Resize((224, 224)), ToTensor()])\n",
    "# call mirror with the inputs and the model\n",
    "mirror([to_input(cat), to_input(dog_and_cat)], model, visualisations=[WebBackProp, WebGradCam, WebDeepDream])"
   ]
  },
  {
   "cell_type": "markdown",
   "metadata": {},
   "source": [
    "It will automatic open a new tab in your browser\n",
    "\n",
    "![alt](https://github.com/FrancescoSaverioZuppichini/mirror/blob/master/resources/mirror.png?raw=true)\n",
    "\n",
    "On the left you can see your model tree structure, by clicking on one layer all his children are showed. On the right there are the visualisation settings. You can select your input by clicking on the bottom tab.\n",
    "\n",
    "![alt](https://raw.githubusercontent.com/FrancescoSaverioZuppichini/mirror/master/resources/inputs.png)\n"
   ]
  },
  {
   "cell_type": "markdown",
   "metadata": {},
   "source": [
    "## Available Visualisations\n",
    "All visualisation available for the web app are inside `.mirror.visualisations.web`.\n",
    "### Weights\n",
    "![alt](https://github.com/FrancescoSaverioZuppichini/mirror/blob/master/resources/weights.png?raw=true)\n",
    "### Deep Dream\n",
    "![alt](https://github.com/FrancescoSaverioZuppichini/mirror/blob/master/resources/deepdream.png?raw=true)\n",
    "### Back Prop / Guide Back Prop\n",
    "By clicking on the radio button 'guide', all the relus negative output will be set to zero producing a nicer looking image\n",
    "![alt](https://github.com/FrancescoSaverioZuppichini/mirror/blob/master/resources/backprop.png?raw=true)\n",
    "## Grad Cam / Guide Grad Cam\n",
    "![alt](https://github.com/FrancescoSaverioZuppichini/mirror/blob/master/resources/grad_cam.png?raw=true)\n",
    "\n",
    "### Using with Tensors\n",
    "If you want, you can use the vanilla version of each visualisation by importing them from  `.mirror.visualisation.core`. "
   ]
  },
  {
   "cell_type": "code",
   "execution_count": 11,
   "metadata": {},
   "outputs": [
    {
     "data": {
      "text/plain": [
       "(tensor([[[[0.4851, 0.4911, 0.4950,  ..., 0.4592, 0.4612, 0.4612],\n",
       "           [0.4831, 0.4911, 0.4970,  ..., 0.4632, 0.4652, 0.4652],\n",
       "           [0.4831, 0.4891, 0.4950,  ..., 0.4692, 0.4692, 0.4692],\n",
       "           ...,\n",
       "           [0.3738, 0.3797, 0.3718,  ..., 0.4791, 0.4791, 0.4771],\n",
       "           [0.3738, 0.3777, 0.3738,  ..., 0.4851, 0.4851, 0.4851],\n",
       "           [0.3718, 0.3718, 0.3718,  ..., 0.4871, 0.4891, 0.4911]],\n",
       " \n",
       "          [[0.9225, 0.9284, 0.9344,  ..., 0.8907, 0.8887, 0.8867],\n",
       "           [0.9205, 0.9284, 0.9364,  ..., 0.8926, 0.8907, 0.8867],\n",
       "           [0.9245, 0.9284, 0.9384,  ..., 0.8887, 0.8847, 0.8787],\n",
       "           ...,\n",
       "           [0.3678, 0.3718, 0.3658,  ..., 0.9165, 0.9185, 0.9185],\n",
       "           [0.3698, 0.3738, 0.3698,  ..., 0.9245, 0.9245, 0.9225],\n",
       "           [0.3638, 0.3678, 0.3678,  ..., 0.9264, 0.9284, 0.9304]],\n",
       " \n",
       "          [[0.8111, 0.8171, 0.8330,  ..., 0.9264, 0.9245, 0.9245],\n",
       "           [0.8052, 0.8171, 0.8330,  ..., 0.9284, 0.9264, 0.9245],\n",
       "           [0.8032, 0.8171, 0.8290,  ..., 0.9304, 0.9245, 0.9205],\n",
       "           ...,\n",
       "           [0.7455, 0.7515, 0.7455,  ..., 0.8449, 0.8449, 0.8429],\n",
       "           [0.7515, 0.7575, 0.7515,  ..., 0.8509, 0.8509, 0.8489],\n",
       "           [0.7475, 0.7515, 0.7515,  ..., 0.8529, 0.8549, 0.8569]]]]),\n",
       " {'prediction': tensor([285]),\n",
       "  'cam': tensor([[0.4018, 0.2273, 0.3181, 0.3394, 0.3576, 0.3860, 0.3549, 0.2843, 0.3375,\n",
       "           0.3635, 0.3597, 0.4068, 0.3265, 0.3453],\n",
       "          [0.1224, 0.0331, 0.1392, 0.1965, 0.1660, 0.2145, 0.3302, 0.4260, 0.5503,\n",
       "           0.4859, 0.2776, 0.3724, 0.3339, 0.3459],\n",
       "          [0.2829, 0.0903, 0.3179, 0.3343, 0.3149, 0.3856, 0.5954, 0.8654, 1.0000,\n",
       "           0.9591, 0.5861, 0.4429, 0.3494, 0.3650],\n",
       "          [0.4101, 0.1648, 0.7469, 0.8419, 0.6816, 0.4950, 0.4598, 0.5734, 0.6599,\n",
       "           0.6918, 0.4082, 0.3602, 0.4526, 0.3900],\n",
       "          [0.4446, 0.1970, 0.8610, 0.9558, 0.8703, 0.5969, 0.3578, 0.3639, 0.3836,\n",
       "           0.2696, 0.2457, 0.0940, 0.2466, 0.2645],\n",
       "          [0.4661, 0.2916, 0.5460, 0.6298, 0.6865, 0.4947, 0.3344, 0.3180, 0.3113,\n",
       "           0.2919, 0.2191, 0.0688, 0.1556, 0.2535],\n",
       "          [0.2896, 0.1955, 0.2195, 0.4146, 0.4831, 0.5808, 0.5027, 0.4044, 0.3637,\n",
       "           0.4110, 0.4081, 0.2570, 0.1484, 0.2467],\n",
       "          [0.1489, 0.1317, 0.1994, 0.4677, 0.4953, 0.5647, 0.5311, 0.4122, 0.3317,\n",
       "           0.3378, 0.4336, 0.3150, 0.2032, 0.2380],\n",
       "          [0.1098, 0.1077, 0.1492, 0.3742, 0.3192, 0.3921, 0.4096, 0.3779, 0.3289,\n",
       "           0.3332, 0.3778, 0.2641, 0.1875, 0.1976],\n",
       "          [0.1065, 0.1065, 0.1437, 0.3091, 0.2134, 0.2284, 0.2599, 0.2399, 0.3141,\n",
       "           0.3549, 0.3406, 0.2375, 0.1182, 0.1587],\n",
       "          [0.0900, 0.0759, 0.1104, 0.1690, 0.1489, 0.1046, 0.1206, 0.2289, 0.3569,\n",
       "           0.4056, 0.3637, 0.2550, 0.0722, 0.1328],\n",
       "          [0.0634, 0.0381, 0.0820, 0.0876, 0.0807, 0.0729, 0.1159, 0.2247, 0.3249,\n",
       "           0.4661, 0.4900, 0.3804, 0.0775, 0.1526],\n",
       "          [0.0019, 0.0000, 0.0034, 0.0394, 0.0688, 0.0706, 0.0744, 0.0738, 0.0743,\n",
       "           0.2720, 0.2767, 0.2766, 0.1200, 0.1786],\n",
       "          [0.1545, 0.1182, 0.1631, 0.1559, 0.1374, 0.1143, 0.1377, 0.1393, 0.2544,\n",
       "           0.3703, 0.3653, 0.4016, 0.2678, 0.3975]])})"
      ]
     },
     "execution_count": 11,
     "metadata": {},
     "output_type": "execute_result"
    }
   ],
   "source": [
    "from mirror.visualisations.core import GradCam\n",
    "\n",
    "# create a model\n",
    "model = vgg16(pretrained=True)\n",
    "# open some images\n",
    "cat = Image.open(\"./cat.jpg\")\n",
    "dog_and_cat = Image.open(\"./dog_and_cat.jpg\")\n",
    "# resize the image and make it a tensor\n",
    "to_input = Compose([Resize((224, 224)), ToTensor()])\n",
    "\n",
    "cam = GradCam(model, device='cpu')\n",
    "cam(to_input(cat).unsqueeze(0), None) # will return the output image and some additional information"
   ]
  },
  {
   "cell_type": "markdown",
   "metadata": {},
   "source": [
    "## Create a Visualisation\n",
    "To create a visualisation you first have to subclass the `Visualisation` class by just define the `__call__` method to return an image and additional informations. The following example creates a custom visualisation that just repeat the input. We first define a custom Visualisation"
   ]
  },
  {
   "cell_type": "code",
   "execution_count": 18,
   "metadata": {},
   "outputs": [],
   "source": [
    "from mirror.visualisations.core import Visualisation\n",
    "\n",
    "class RepeatInput(Visualisation):\n",
    "\n",
    "    def __call__(self, inputs, layer, repeat=1):\n",
    "        return inputs.repeat(repeat, 1, 1, 1), None\n"
   ]
  },
  {
   "cell_type": "markdown",
   "metadata": {},
   "source": [
    "This class just repeat the input for `repeat` times. Now we have to create a `WebInterface` to make this class communicate with the application. Be careful to the next step."
   ]
  },
  {
   "cell_type": "code",
   "execution_count": 19,
   "metadata": {},
   "outputs": [],
   "source": [
    "from mirror.visualisations.web import WebInterface\n",
    "\n",
    "class WebRepeatInput(WebInterface):\n",
    "    def __init__(self, *args, **kwargs):\n",
    "        super().__init__(*args, **kwargs)\n",
    "        self.visualisation = RepeatInput(self.module, self.device) # create your visualisation\n",
    "        self.repeat = 1 # define your parameters\n",
    "\n",
    "    @property\n",
    "    def name(self):\n",
    "        return 'Repeat'\n",
    "\n",
    "    @property\n",
    "    def params(self):\n",
    "        # maps the parameters to the UI\n",
    "        return {'repeat' : {\n",
    "                     'type' : 'slider',\n",
    "                     'min' : 1,\n",
    "                     'max' : 100,\n",
    "                     'value' : self.repeat,\n",
    "                     'step': 1,\n",
    "                     'params': {}\n",
    "                 }\n",
    "        }\n"
   ]
  },
  {
   "cell_type": "markdown",
   "metadata": {},
   "source": [
    "In the `__init__` method we instantiate our custom visualisation by passing `self.module` and `self.device`. Then, **we decleare each argument to the visualisation as a field of this class**. So, since `RepeatInput` takes as argument `repeat` we create a field `repeat` in `WebRepeatInput`. Then, we defined the name by overriding the property `name`. Finally, we override the property `params` to create the corresponding UI. `params` must return a dictionary where **each key are the names of the visualisations arguments**, in our case `repeat`, and the value is a dictionary where there is a key `value` mapped to the class field. This will allows `mirror` to dynamically update your fields based on the UI. In this example, we create a slider and it looks like\n",
    "\n",
    "![alt](https://github.com/FrancescoSaverioZuppichini/mirror/blob/master/resources/repeat_slider.jpg?raw=true)\n",
    "The final result is \n",
    "\n",
    "![alt](https://github.com/FrancescoSaverioZuppichini/mirror/blob/master/resources/repeat_example.jpg?raw=true)\n"
   ]
  },
  {
   "cell_type": "markdown",
   "metadata": {},
   "source": [
    "![alt](https://github.com/FrancescoSaverioZuppichini/mirror/blob/master/resources/dummy.jpg?raw=true)\n"
   ]
  },
  {
   "cell_type": "markdown",
   "metadata": {},
   "source": [
    "## Change the front-end\n",
    "All the front-end is developed usin [React](https://reactjs.org/) and [Material-UI](https://material-ui.com/), two very known frameworks, making easier for anybody to contribuite.\n",
    "\n",
    "You can customise the front-end by changing the source code in `mirror/client`. After that, you need to build the react app and move the file to the server static folder.\n",
    "\n",
    "**I was not able to serve the static file directly from the /mirror/client/build folder** if you know how to do it any pull request is welcome :)\n",
    "\n",
    "```\n",
    "cd ./mirror/mirror/client // assuming the root folder is called mirror\n",
    "npm run build\n",
    "```\n",
    "Then you need to move the fiels from the `mirror/mirror/client/build` folder to `mirror/mirror`. You can remove all the files in `mirror/mirro/static`\n",
    "```\n",
    "mv ./build/static ../ && cp ./build/* ../static/\n",
    "```\n",
    "\n",
    "### TODO\n",
    "- [x] Cache reused layer \n",
    "- [x] Make a generic abstraction of a visualisation in order to add more features  \n",
    "- [x] Add dropdown as parameter\n",
    "- [x] Add text field\n",
    "- [x] Support multiple inputs\n",
    "- [x] Support multiple models\n",
    "- Add all visualisation present here https://github.com/utkuozbulak/pytorch-cnn-visualizations\n",
    "    * [x] [Gradient visualization with vanilla backpropagation](#gradient-visualization)\n",
    "    * [x] [Gradient visualization with guided backpropagation](#gradient-visualization) [1]\n",
    "    * [x] [Gradient visualization with saliency maps](#gradient-visualization) [4]\n",
    "    * [x] [CNN filter visualization](#convolutional-neural-network-filter-visualization) [9]\n",
    "    * [x] [Deep dream](#deep-dream) [10]\n",
    "    * [ ] [Class specific image generation](#class-specific-image-generation) [4]\n",
    "    * [x] [Grad Cam](https://arxiv.org/abs/1610.02391)\n",
    "\n",
    "- [ ] Add a `output_transformation` params for each visualisation to allow better customisation \n",
    "- [ ] Add a `input_transformation` params for each visualisation to allow better customisation "
   ]
  }
 ],
 "metadata": {
  "kernelspec": {
   "display_name": "Python 3",
   "language": "python",
   "name": "python3"
  },
  "language_info": {
   "codemirror_mode": {
    "name": "ipython",
    "version": 3
   },
   "file_extension": ".py",
   "mimetype": "text/x-python",
   "name": "python",
   "nbconvert_exporter": "python",
   "pygments_lexer": "ipython3",
   "version": "3.7.3"
  }
 },
 "nbformat": 4,
 "nbformat_minor": 2
}
