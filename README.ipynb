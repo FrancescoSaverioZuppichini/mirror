{
 "cells": [
  {
   "cell_type": "code",
   "execution_count": 1,
   "metadata": {},
   "outputs": [],
   "source": [
    "%load_ext autoreload\n",
    "%autoreload 2"
   ]
  },
  {
   "cell_type": "markdown",
   "metadata": {},
   "source": [
    "# Mirror\n",
    "## Pytorch CNN Visualisation Tool\n",
    "\n",
    "This is a raw beta so expect lots of things to change and improve over time.\n",
    "\n",
    "![alt](https://github.com/FrancescoSaverioZuppichini/mirror/blob/master/resources/mirror.gif?raw=true)\n",
    "\n",
    "### Getting started\n",
    "\n",
    "To install mirror run\n",
    "\n",
    "```\n",
    "pip install git+https://github.com/FrancescoSaverioZuppichini/mirror.git\n",
    "```"
   ]
  },
  {
   "cell_type": "markdown",
   "metadata": {},
   "source": [
    "## Getting Started\n",
    "\n",
    "A basic example"
   ]
  },
  {
   "cell_type": "code",
   "execution_count": 2,
   "metadata": {},
   "outputs": [
    {
     "name": "stdout",
     "output_type": "stream",
     "text": [
      " * Serving Flask app \"mirror.App\" (lazy loading)\n",
      " * Environment: production\n",
      "   WARNING: This is a development server. Do not use it in a production deployment.\n",
      "   Use a production WSGI server instead.\n",
      " * Debug mode: off\n"
     ]
    },
    {
     "name": "stderr",
     "output_type": "stream",
     "text": [
      " * Running on http://0.0.0.0:5000/ (Press CTRL+C to quit)\n",
      " * Restarting with stat\n"
     ]
    },
    {
     "ename": "SystemExit",
     "evalue": "1",
     "output_type": "error",
     "traceback": [
      "An exception has occurred, use %tb to see the full traceback.\n",
      "\u001b[0;31mSystemExit\u001b[0m\u001b[0;31m:\u001b[0m 1\n"
     ]
    },
    {
     "name": "stderr",
     "output_type": "stream",
     "text": [
      "/home/francesco/anaconda3/envs/dl/lib/python3.7/site-packages/IPython/core/interactiveshell.py:3304: UserWarning: To exit: use 'exit', 'quit', or Ctrl-D.\n",
      "  warn(\"To exit: use 'exit', 'quit', or Ctrl-D.\", stacklevel=1)\n"
     ]
    }
   ],
   "source": [
    "from mirror import mirror\n",
    "from mirror.visualisations.web import *\n",
    "from PIL import Image\n",
    "from torchvision.models import resnet101, resnet18, vgg16, alexnet\n",
    "from torchvision.transforms import ToTensor, Resize, Compose\n",
    "\n",
    "# create a model\n",
    "model = vgg16(pretrained=True)\n",
    "# open some images\n",
    "cat = Image.open(\"./cat.jpg\")\n",
    "dog_and_cat = Image.open(\"./dog_and_cat.jpg\")\n",
    "# resize the image and make it a tensor\n",
    "to_input = Compose([Resize((224, 224)), ToTensor()])\n",
    "# call mirror with the inputs and the model\n",
    "mirror([to_input(cat), to_input(dog_and_cat)], model, visualisations=[BackProp, GradCam, DeepDream])"
   ]
  },
  {
   "cell_type": "markdown",
   "metadata": {},
   "source": [
    "It will automatic open a new tab in your browser\n",
    "\n",
    "![alt](https://github.com/FrancescoSaverioZuppichini/mirror/blob/master/resources/mirror.png?raw=true)\n",
    "\n",
    "On the left you can see your model tree structure, by clicking on one layer all his children are showed. On the right there are the visualisation settings. You can select your input by clicking on the bottom tab.\n",
    "\n",
    "![alt](https://raw.githubusercontent.com/FrancescoSaverioZuppichini/mirror/master/resources/inputs.png)\n"
   ]
  },
  {
   "cell_type": "markdown",
   "metadata": {},
   "source": [
    "## Available Visualisations\n",
    "All visualisation available for the web app are inside `.mirror.visualisations.web`.\n",
    "### Weights\n",
    "![alt](https://github.com/FrancescoSaverioZuppichini/mirror/blob/master/resources/weights.png?raw=true)\n",
    "### Deep Dream\n",
    "![alt](https://github.com/FrancescoSaverioZuppichini/mirror/blob/master/resources/deepdream.png?raw=true)\n",
    "### Back Prop / Guide Back Prop\n",
    "By clicking on the radio button 'guide', all the relus negative output will be set to zero producing a nicer looking image\n",
    "![alt](https://github.com/FrancescoSaverioZuppichini/mirror/blob/master/resources/backprop.png?raw=true)\n",
    "## Grad Cam / Guide Grad Cam\n",
    "![alt](https://github.com/FrancescoSaverioZuppichini/mirror/blob/master/resources/grad_cam.png?raw=true)\n",
    "\n",
    "### Using with Tensors\n",
    "If you want, you can use the vanilla version of each visualisation by importing them from  `.mirror.visualisation.core`. "
   ]
  },
  {
   "cell_type": "code",
   "execution_count": null,
   "metadata": {},
   "outputs": [],
   "source": [
    "from mirror.visualisations.core import GradCam\n",
    "\n",
    "# create a model\n",
    "model = vgg16(pretrained=True)\n",
    "# open some images\n",
    "cat = Image.open(\"./cat.jpg\")\n",
    "dog_and_cat = Image.open(\"./dog_and_cat.jpg\")\n",
    "# resize the image and make it a tensor\n",
    "to_input = Compose([Resize((224, 224)), ToTensor()])\n",
    "\n",
    "cam = GradCam(model, device='cpu')\n",
    "cam(to_input(cat).unsqueeze(0), None) # will return the output image and some additional information"
   ]
  },
  {
   "cell_type": "markdown",
   "metadata": {},
   "source": [
    "## Create a Visualisation\n",
    "To create a visualisation you first have to subclass the `Visualisation` class by just define the `__call__` method to return an image and additional informations. The following example creates a custom visualisation that just repeat the input. We first define a custom Visualisation"
   ]
  },
  {
   "cell_type": "code",
   "execution_count": 3,
   "metadata": {},
   "outputs": [],
   "source": [
    "from mirror.visualisations.core import Visualisation\n",
    "\n",
    "class RepeatInput(Visualisation):\n",
    "\n",
    "    def __call__(self, inputs, layer, repeat=1):\n",
    "        return inputs.repeat(repeat, 1, 1, 1), None\n"
   ]
  },
  {
   "cell_type": "markdown",
   "metadata": {},
   "source": [
    "This class just repeat the input for `repeat` times. Now we have to create a `WebInterface` to make this class communicate with the application. Easily, we can use `WebInterface.from_visualisation` to create the communication chain between our visualisation and the web app"
   ]
  },
  {
   "cell_type": "code",
   "execution_count": 4,
   "metadata": {},
   "outputs": [],
   "source": [
    "from mirror.visualisations.web import WebInterface\n",
    "from functools import partial\n",
    "\n",
    "params = {'repeat' : {\n",
    "                     'type' : 'slider',\n",
    "                     'min' : 1,\n",
    "                     'max' : 100,\n",
    "                     'value' : 2,\n",
    "                     'step': 1,\n",
    "                     'params': {}\n",
    "                 }\n",
    "        }\n",
    "\n",
    "\n",
    "visualisation = partial(WebInterface.from_visualisation, RepeatInput, params=params, name='Visualisation')\n"
   ]
  },
  {
   "cell_type": "markdown",
   "metadata": {},
   "source": [
    "First we import `WebInterface` and `partial`. Then, we create a dictionary where each **they key is the visualisation parameter name**. There are three basic UI blocks: *slider*, *textfield* and *radio*. The input is stored in the `value` slot.\n",
    "\n",
    "Then we call `WebInterface.from_visualisation` by passing the visualisation, the params and the name. We need to wrap this function using `partial` since `mirror` will need to dynamically pass some others parameters at run time.\n",
    "\n",
    "![alt](https://github.com/FrancescoSaverioZuppichini/mirror/blob/master/resources/repeat_slider.jpg?raw=true)\n",
    "The final result is \n",
    "\n",
    "![alt](https://github.com/FrancescoSaverioZuppichini/mirror/blob/master/resources/repeat_example.jpg?raw=true)\n"
   ]
  },
  {
   "cell_type": "markdown",
   "metadata": {},
   "source": [
    "![alt](https://github.com/FrancescoSaverioZuppichini/mirror/blob/master/resources/dummy.jpg?raw=true)\n"
   ]
  },
  {
   "cell_type": "markdown",
   "metadata": {},
   "source": [
    "## Change the front-end\n",
    "All the front-end is developed usin [React](https://reactjs.org/) and [Material-UI](https://material-ui.com/), two very known frameworks, making easier for anybody to contribuite.\n",
    "\n",
    "You can customise the front-end by changing the source code in `mirror/client`. After that, you need to build the react app and move the file to the server static folder.\n",
    "\n",
    "**I was not able to serve the static file directly from the /mirror/client/build folder** if you know how to do it any pull request is welcome :)\n",
    "\n",
    "```\n",
    "cd ./mirror/mirror/client // assuming the root folder is called mirror\n",
    "npm run build\n",
    "```\n",
    "Then you need to move the fiels from the `mirror/mirror/client/build` folder to `mirror/mirror`. You can remove all the files in `mirror/mirro/static`\n",
    "```\n",
    "mv ./build/static ../ && cp ./build/* ../static/\n",
    "```\n",
    "\n",
    "### TODO\n",
    "- [x] Cache reused layer \n",
    "- [x] Make a generic abstraction of a visualisation in order to add more features  \n",
    "- [x] Add dropdown as parameter\n",
    "- [x] Add text field\n",
    "- [x] Support multiple inputs\n",
    "- [x] Support multiple models\n",
    "- Add all visualisation present here https://github.com/utkuozbulak/pytorch-cnn-visualizations\n",
    "    * [x] [Gradient visualization with vanilla backpropagation](#gradient-visualization)\n",
    "    * [x] [Gradient visualization with guided backpropagation](#gradient-visualization) [1]\n",
    "    * [x] [Gradient visualization with saliency maps](#gradient-visualization) [4]\n",
    "    * [x] [CNN filter visualization](#convolutional-neural-network-filter-visualization) [9]\n",
    "    * [x] [Deep dream](#deep-dream) [10]\n",
    "    * [ ] [Class specific image generation](#class-specific-image-generation) [4]\n",
    "    * [x] [Grad Cam](https://arxiv.org/abs/1610.02391)\n",
    "\n",
    "- [ ] Add a `output_transformation` params for each visualisation to allow better customisation \n",
    "- [ ] Add a `input_transformation` params for each visualisation to allow better customisation "
   ]
  }
 ],
 "metadata": {
  "kernelspec": {
   "display_name": "Python 3",
   "language": "python",
   "name": "python3"
  },
  "language_info": {
   "codemirror_mode": {
    "name": "ipython",
    "version": 3
   },
   "file_extension": ".py",
   "mimetype": "text/x-python",
   "name": "python",
   "nbconvert_exporter": "python",
   "pygments_lexer": "ipython3",
   "version": "3.7.3"
  }
 },
 "nbformat": 4,
 "nbformat_minor": 2
}
